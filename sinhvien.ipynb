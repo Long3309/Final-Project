{
 "cells": [
  {
   "cell_type": "code",
   "execution_count": 2,
   "metadata": {},
   "outputs": [],
   "source": [
    "import pandas as pd\n",
    "import numpy as np"
   ]
  },
  {
   "cell_type": "code",
   "execution_count": 13,
   "metadata": {},
   "outputs": [],
   "source": [
    "df_sinhvien = pd.read_excel(\"Education_dataset_V2/01.sinhvien.xlsx\", index_col=0)"
   ]
  },
  {
   "cell_type": "code",
   "execution_count": 23,
   "metadata": {},
   "outputs": [
    {
     "data": {
      "text/plain": [
       "Index(['mssv', ' namsinh', ' gioitinh', ' noisinh', ' lopsh', ' khoa', ' hedt',\n",
       "       ' khoahoc', ' chuyennganh2', ' tinhtrang', ' diachi_tinhtp', 'Column1',\n",
       "       '_1', '_2', '_3', '_4', '_5', '_6', '_7', '_8', '_9', '_10', '_11',\n",
       "       '_12', '_13', '_14', '_15', '_16', '_17', '_18', '_19', '_20', '_21',\n",
       "       '_22', '_23', '_24', '_25', '_26', '_27', '_28', '_29', '_30', '_31',\n",
       "       '_32', '_33', '_34', '_35', '_36', '_37', '_38', '_39', '_40', '_41',\n",
       "       '_42', '_43', '_44', '_45', '_46', '_47', '_48', '_49', '_50', '_51',\n",
       "       '_52', '_53', '_54', '_55', '_56'],\n",
       "      dtype='object')"
      ]
     },
     "execution_count": 23,
     "metadata": {},
     "output_type": "execute_result"
    }
   ],
   "source": [
    "df_sinhvien.columns"
   ]
  }
 ],
 "metadata": {
  "kernelspec": {
   "display_name": "code",
   "language": "python",
   "name": "python3"
  },
  "language_info": {
   "codemirror_mode": {
    "name": "ipython",
    "version": 3
   },
   "file_extension": ".py",
   "mimetype": "text/x-python",
   "name": "python",
   "nbconvert_exporter": "python",
   "pygments_lexer": "ipython3",
   "version": "3.11.2"
  },
  "orig_nbformat": 4
 },
 "nbformat": 4,
 "nbformat_minor": 2
}
